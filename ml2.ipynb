{
  "nbformat": 4,
  "nbformat_minor": 0,
  "metadata": {
    "colab": {
      "provenance": [],
      "authorship_tag": "ABX9TyN3u/8l/6ZrznWQXbb58oCQ",
      "include_colab_link": true
    },
    "kernelspec": {
      "name": "python3",
      "display_name": "Python 3"
    },
    "language_info": {
      "name": "python"
    }
  },
  "cells": [
    {
      "cell_type": "markdown",
      "metadata": {
        "id": "view-in-github",
        "colab_type": "text"
      },
      "source": [
        "<a href=\"https://colab.research.google.com/github/narasimha24-05/ml/blob/main/ml2.ipynb\" target=\"_parent\"><img src=\"https://colab.research.google.com/assets/colab-badge.svg\" alt=\"Open In Colab\"/></a>"
      ]
    },
    {
      "cell_type": "code",
      "source": [],
      "metadata": {
        "id": "V5GBXAYNE_lF"
      },
      "execution_count": null,
      "outputs": []
    },
    {
      "cell_type": "code",
      "metadata": {
        "colab": {
          "base_uri": "https://localhost:8080/"
        },
        "id": "489693b1",
        "outputId": "11e5f671-85a9-438c-d861-27c3cba31d15"
      },
      "source": [
        "import numpy as ap\n",
        "one = ap.array([1, 2, 3, 4, 5])\n",
        "print(one)\n",
        "print(one.ndim)\n",
        "print(one.size)\n",
        "print(one.shape)"
      ],
      "execution_count": null,
      "outputs": [
        {
          "output_type": "stream",
          "name": "stdout",
          "text": [
            "[1 2 3 4 5]\n",
            "1\n",
            "5\n",
            "(5,)\n"
          ]
        }
      ]
    },
    {
      "cell_type": "code",
      "source": [
        "import numpy as ap\n",
        "two=ap.array([[1,2,3],[4,5,4]])\n",
        "print(two)\n",
        "print(two.ndim)\n",
        "print(two.size)\n",
        "print(two.shape)"
      ],
      "metadata": {
        "colab": {
          "base_uri": "https://localhost:8080/"
        },
        "id": "FFg_-w7dFJRV",
        "outputId": "af384a12-f881-4163-ad6e-d41fb64bb9b3"
      },
      "execution_count": null,
      "outputs": [
        {
          "output_type": "stream",
          "name": "stdout",
          "text": [
            "[[1 2 3]\n",
            " [4 5 4]]\n",
            "2\n",
            "6\n",
            "(2, 3)\n"
          ]
        }
      ]
    },
    {
      "cell_type": "code",
      "source": [
        "import numpy as ap\n",
        "three=ap.array([[1,2,3],[4,5,4],[1,1,1]])\n",
        "print(three)\n",
        "print(three.ndim)\n",
        "print(three.size)\n",
        "print(three.shape)"
      ],
      "metadata": {
        "colab": {
          "base_uri": "https://localhost:8080/"
        },
        "id": "vUdBbg8VGGK-",
        "outputId": "17914f9d-3588-4a21-9d29-6061386de894"
      },
      "execution_count": null,
      "outputs": [
        {
          "output_type": "stream",
          "name": "stdout",
          "text": [
            "[[1 2 3]\n",
            " [4 5 4]\n",
            " [1 1 1]]\n",
            "2\n",
            "9\n",
            "(3, 3)\n"
          ]
        }
      ]
    },
    {
      "cell_type": "code",
      "source": [
        "import numpy as np\n",
        "\n",
        "n = int(input(\"enter size: \"))\n",
        "array=[]\n",
        "for i in range(n):\n",
        "  ele=float(input())\n",
        "  array.append(ele)\n",
        "\n",
        "array_mean=np.mean(array)\n",
        "print(array_mean)"
      ],
      "metadata": {
        "colab": {
          "base_uri": "https://localhost:8080/"
        },
        "id": "axAnnqRBGZZl",
        "outputId": "f53ed96f-014e-4076-d101-6f60be3dedd7"
      },
      "execution_count": null,
      "outputs": [
        {
          "output_type": "stream",
          "name": "stdout",
          "text": [
            "enter size: 5\n",
            "1.3\n",
            "2.2\n",
            "3.4\n",
            "4.0\n",
            "5.5\n",
            "3.28\n"
          ]
        }
      ]
    },
    {
      "cell_type": "code",
      "source": [
        "import numpy as np\n",
        "\n",
        "n = int(input(\"enter size: \"))\n",
        "array=[]\n",
        "for i in range(n):\n",
        "  ele=float(input())\n",
        "  array.append(ele)\n",
        "\n",
        "array_median=np.median(array)\n",
        "print(\"the median is\",array_median)"
      ],
      "metadata": {
        "colab": {
          "base_uri": "https://localhost:8080/"
        },
        "id": "ZiYTfQaSK-QD",
        "outputId": "336b9b31-15af-4788-83d3-fb7e777a1b09"
      },
      "execution_count": null,
      "outputs": [
        {
          "output_type": "stream",
          "name": "stdout",
          "text": [
            "enter size: 5\n",
            "1\n",
            "2\n",
            "3\n",
            "4\n",
            "5\n",
            "the median is 3.0\n"
          ]
        }
      ]
    },
    {
      "cell_type": "code",
      "source": [
        "import numpy as np\n",
        "from statistics import mean, median, mode\n",
        "data = [2, 4, 4, 4, 5, 5, 7, 9]\n",
        "print(\"Mean:\", mean(data))\n",
        "print(\"Median:\", median(data))\n",
        "print(\"Mode:\", mode(data))\n",
        "print(\"Variance:\", np.var(data))\n",
        "print(\"Standard Deviation:\", np.std(data))"
      ],
      "metadata": {
        "colab": {
          "base_uri": "https://localhost:8080/"
        },
        "id": "_Q9M5h_crwYG",
        "outputId": "f964094a-b8fb-448d-9f45-dd0d53e0f22a"
      },
      "execution_count": 2,
      "outputs": [
        {
          "output_type": "stream",
          "name": "stdout",
          "text": [
            "Mean: 5\n",
            "Median: 4.5\n",
            "Mode: 4\n",
            "Variance: 4.0\n",
            "Standard Deviation: 2.0\n"
          ]
        }
      ]
    },
    {
      "cell_type": "code",
      "source": [
        "import math\n",
        "print(math.pow(2, 35))\n",
        "print(math.sqrt(15))\n",
        "print(math.exp(3))\n",
        "print(math.log(100, 10))"
      ],
      "metadata": {
        "colab": {
          "base_uri": "https://localhost:8080/"
        },
        "id": "MGqopuhrtBK9",
        "outputId": "44f8e39c-8956-48b8-f238-cd7dc4ddb1e8"
      },
      "execution_count": 9,
      "outputs": [
        {
          "output_type": "stream",
          "name": "stdout",
          "text": [
            "34359738368.0\n",
            "3.872983346207417\n",
            "20.085536923187668\n",
            "2.0\n"
          ]
        }
      ]
    },
    {
      "cell_type": "code",
      "source": [
        "print(math.sin(math.pi/2))\n",
        "print(math.cos(0))\n",
        "print(math.tan(math.pi/4))\n",
        "\n",
        "print(math.radians(90))\n",
        "\n",
        "print(math.degrees(math.pi))"
      ],
      "metadata": {
        "id": "yyB9zHPHu79k",
        "outputId": "e97ad586-20fd-421d-84c2-45e9b14925ea",
        "colab": {
          "base_uri": "https://localhost:8080/"
        }
      },
      "execution_count": 6,
      "outputs": [
        {
          "output_type": "stream",
          "name": "stdout",
          "text": [
            "1.0\n",
            "1.0\n",
            "0.9999999999999999\n",
            "1.5707963267948966\n",
            "180.0\n"
          ]
        }
      ]
    },
    {
      "cell_type": "code",
      "source": [
        "print(math.factorial(6))\n",
        "print(math.gcd(23, 8))\n",
        "print(math.fabs(-7.5))"
      ],
      "metadata": {
        "id": "_Lc2fyKvwD0c",
        "outputId": "60a795db-5e10-49e6-8be1-ec17b1dc7ef9",
        "colab": {
          "base_uri": "https://localhost:8080/"
        }
      },
      "execution_count": 10,
      "outputs": [
        {
          "output_type": "stream",
          "name": "stdout",
          "text": [
            "720\n",
            "1\n",
            "7.5\n"
          ]
        }
      ]
    },
    {
      "cell_type": "code",
      "source": [
        "print(math.pi)\n",
        "print(math.e)"
      ],
      "metadata": {
        "id": "raeINa7ry0Tk",
        "outputId": "bd1aba0a-56bc-407e-fade-6bc21be2a3f9",
        "colab": {
          "base_uri": "https://localhost:8080/"
        }
      },
      "execution_count": 8,
      "outputs": [
        {
          "output_type": "stream",
          "name": "stdout",
          "text": [
            "3.141592653589793\n",
            "2.718281828459045\n"
          ]
        }
      ]
    }
  ]
}