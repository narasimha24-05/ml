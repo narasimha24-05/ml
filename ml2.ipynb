{
  "nbformat": 4,
  "nbformat_minor": 0,
  "metadata": {
    "colab": {
      "provenance": [],
      "authorship_tag": "ABX9TyMjyAvm7gJ3cVruRlGRKJ+z",
      "include_colab_link": true
    },
    "kernelspec": {
      "name": "python3",
      "display_name": "Python 3"
    },
    "language_info": {
      "name": "python"
    }
  },
  "cells": [
    {
      "cell_type": "markdown",
      "metadata": {
        "id": "view-in-github",
        "colab_type": "text"
      },
      "source": [
        "<a href=\"https://colab.research.google.com/github/narasimha24-05/ml/blob/main/ml2.ipynb\" target=\"_parent\"><img src=\"https://colab.research.google.com/assets/colab-badge.svg\" alt=\"Open In Colab\"/></a>"
      ]
    },
    {
      "cell_type": "code",
      "source": [],
      "metadata": {
        "id": "V5GBXAYNE_lF"
      },
      "execution_count": null,
      "outputs": []
    },
    {
      "cell_type": "code",
      "metadata": {
        "colab": {
          "base_uri": "https://localhost:8080/"
        },
        "id": "489693b1",
        "outputId": "11e5f671-85a9-438c-d861-27c3cba31d15"
      },
      "source": [
        "import numpy as ap\n",
        "one = ap.array([1, 2, 3, 4, 5])\n",
        "print(one)\n",
        "print(one.ndim)\n",
        "print(one.size)\n",
        "print(one.shape)"
      ],
      "execution_count": 26,
      "outputs": [
        {
          "output_type": "stream",
          "name": "stdout",
          "text": [
            "[1 2 3 4 5]\n",
            "1\n",
            "5\n",
            "(5,)\n"
          ]
        }
      ]
    },
    {
      "cell_type": "code",
      "source": [
        "import numpy as ap\n",
        "two=ap.array([[1,2,3],[4,5,4]])\n",
        "print(two)\n",
        "print(two.ndim)\n",
        "print(two.size)\n",
        "print(two.shape)"
      ],
      "metadata": {
        "colab": {
          "base_uri": "https://localhost:8080/"
        },
        "id": "FFg_-w7dFJRV",
        "outputId": "af384a12-f881-4163-ad6e-d41fb64bb9b3"
      },
      "execution_count": 28,
      "outputs": [
        {
          "output_type": "stream",
          "name": "stdout",
          "text": [
            "[[1 2 3]\n",
            " [4 5 4]]\n",
            "2\n",
            "6\n",
            "(2, 3)\n"
          ]
        }
      ]
    },
    {
      "cell_type": "code",
      "source": [
        "import numpy as ap\n",
        "three=ap.array([[1,2,3],[4,5,4],[1,1,1]])\n",
        "print(three)\n",
        "print(three.ndim)\n",
        "print(three.size)\n",
        "print(three.shape)"
      ],
      "metadata": {
        "colab": {
          "base_uri": "https://localhost:8080/"
        },
        "id": "vUdBbg8VGGK-",
        "outputId": "17914f9d-3588-4a21-9d29-6061386de894"
      },
      "execution_count": 27,
      "outputs": [
        {
          "output_type": "stream",
          "name": "stdout",
          "text": [
            "[[1 2 3]\n",
            " [4 5 4]\n",
            " [1 1 1]]\n",
            "2\n",
            "9\n",
            "(3, 3)\n"
          ]
        }
      ]
    },
    {
      "cell_type": "code",
      "source": [
        "import numpy as np\n",
        "\n",
        "n = int(input(\"enter size: \"))\n",
        "array=[]\n",
        "for i in range(n):\n",
        "  ele=float(input())\n",
        "  array.append(ele)\n",
        "\n",
        "array_mean=np.mean(array)\n",
        "print(array_mean)"
      ],
      "metadata": {
        "colab": {
          "base_uri": "https://localhost:8080/"
        },
        "id": "axAnnqRBGZZl",
        "outputId": "f53ed96f-014e-4076-d101-6f60be3dedd7"
      },
      "execution_count": 17,
      "outputs": [
        {
          "output_type": "stream",
          "name": "stdout",
          "text": [
            "enter size: 5\n",
            "1.3\n",
            "2.2\n",
            "3.4\n",
            "4.0\n",
            "5.5\n",
            "3.28\n"
          ]
        }
      ]
    },
    {
      "cell_type": "code",
      "source": [
        "import numpy as np\n",
        "\n",
        "n = int(input(\"enter size: \"))\n",
        "array=[]\n",
        "for i in range(n):\n",
        "  ele=float(input())\n",
        "  array.append(ele)\n",
        "\n",
        "array_median=np.median(array)\n",
        "print(\"the median is\",array_median)"
      ],
      "metadata": {
        "colab": {
          "base_uri": "https://localhost:8080/"
        },
        "id": "ZiYTfQaSK-QD",
        "outputId": "336b9b31-15af-4788-83d3-fb7e777a1b09"
      },
      "execution_count": 21,
      "outputs": [
        {
          "output_type": "stream",
          "name": "stdout",
          "text": [
            "enter size: 5\n",
            "1\n",
            "2\n",
            "3\n",
            "4\n",
            "5\n",
            "the median is 3.0\n"
          ]
        }
      ]
    }
  ]
}